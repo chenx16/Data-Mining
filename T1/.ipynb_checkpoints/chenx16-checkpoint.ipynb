{
 "cells": [
  {
   "cell_type": "markdown",
   "metadata": {},
   "source": [
    "# Name: Doris Chen\n",
    "#### Test 1B Data Mining Winter 2020-21"
   ]
  },
  {
   "cell_type": "code",
   "execution_count": null,
   "metadata": {},
   "outputs": [],
   "source": [
    "import pandas as pd\n",
    "import matplotlib.pyplot as plt"
   ]
  },
  {
   "cell_type": "markdown",
   "metadata": {},
   "source": [
    "## 1. (10 pts) Cleaning:"
   ]
  },
  {
   "cell_type": "code",
   "execution_count": null,
   "metadata": {
    "scrolled": true
   },
   "outputs": [],
   "source": [
    "#A1 START ENTER CODE HERE (DO NOT MODIFY THIS LINE)\n",
    "\n",
    "\n",
    "\n",
    "#A2 END ENTER CODE HERE  (DO NOT MODIFY THIS LINE)\n",
    "df = pd.read_csv(data_file)\n",
    "df.head(3)"
   ]
  },
  {
   "cell_type": "code",
   "execution_count": null,
   "metadata": {},
   "outputs": [],
   "source": [
    "#B1 START ENTER CODE HERE (DO NOT MODIFY THIS LINE)\n",
    "\n",
    "\n",
    "\n",
    "#B2 END ENTER CODE HERE  (DO NOT MODIFY THIS LINE)"
   ]
  },
  {
   "cell_type": "code",
   "execution_count": null,
   "metadata": {},
   "outputs": [],
   "source": [
    "#C THIS CELL IS FOR GRADING ONLY (DO NOT MODIFY)"
   ]
  },
  {
   "cell_type": "markdown",
   "metadata": {},
   "source": [
    "## 2(a) (10 pts) Binning:"
   ]
  },
  {
   "cell_type": "code",
   "execution_count": null,
   "metadata": {},
   "outputs": [],
   "source": [
    "#D1 START ENTER CODE HERE (DO NOT MODIFY THIS LINE)\n",
    "\n",
    "\n",
    "\n",
    "#D2 END ENTER CODE HERE  (DO NOT MODIFY THIS LINE)\n",
    "df = pd.read_csv(data_file)\n",
    "df.head(3)"
   ]
  },
  {
   "cell_type": "code",
   "execution_count": null,
   "metadata": {},
   "outputs": [],
   "source": [
    "#E1 START ENTER CODE HERE (DO NOT MODIFY THIS LINE)\n",
    "\n",
    "\n",
    "\n",
    "#E2 END ENTER CODE HERE  (DO NOT MODIFY THIS LINE)"
   ]
  },
  {
   "cell_type": "code",
   "execution_count": null,
   "metadata": {},
   "outputs": [],
   "source": [
    "#F THIS CELL IS FOR GRADING ONLY (DO NOT MODIFY)"
   ]
  },
  {
   "cell_type": "markdown",
   "metadata": {},
   "source": [
    "## 2(b) (10 pts) Merging:"
   ]
  },
  {
   "cell_type": "code",
   "execution_count": null,
   "metadata": {},
   "outputs": [],
   "source": [
    "#G1 START ENTER CODE HERE (DO NOT MODIFY THIS LINE)\n",
    "\n",
    "\n",
    "\n",
    "#G2 END ENTER CODE HERE  (DO NOT MODIFY THIS LINE)\n",
    "df_demographics = pd.read_csv(data_file)\n",
    "df_demographics.head(3)"
   ]
  },
  {
   "cell_type": "code",
   "execution_count": null,
   "metadata": {},
   "outputs": [],
   "source": [
    "#H1 START ENTER CODE HERE (DO NOT MODIFY THIS LINE)\n",
    "\n",
    "\n",
    "\n",
    "#H2 END ENTER CODE HERE  (DO NOT MODIFY THIS LINE)"
   ]
  },
  {
   "cell_type": "code",
   "execution_count": null,
   "metadata": {},
   "outputs": [],
   "source": [
    "#I THIS CELL IS FOR GRADING ONLY (DO NOT MODIFY)"
   ]
  },
  {
   "cell_type": "markdown",
   "metadata": {},
   "source": [
    "## 2(c) (10 pts) Grouping and  Plotting:"
   ]
  },
  {
   "cell_type": "code",
   "execution_count": null,
   "metadata": {},
   "outputs": [],
   "source": [
    "#J1 START ENTER CODE HERE (DO NOT MODIFY THIS LINE)\n",
    "\n",
    "\n",
    "\n",
    "#J2 END ENTER CODE HERE  (DO NOT MODIFY THIS LINE)"
   ]
  }
 ],
 "metadata": {
  "kernelspec": {
   "display_name": "Python 3",
   "language": "python",
   "name": "python3"
  },
  "language_info": {
   "codemirror_mode": {
    "name": "ipython",
    "version": 3
   },
   "file_extension": ".py",
   "mimetype": "text/x-python",
   "name": "python",
   "nbconvert_exporter": "python",
   "pygments_lexer": "ipython3",
   "version": "3.8.3"
  }
 },
 "nbformat": 4,
 "nbformat_minor": 4
}
